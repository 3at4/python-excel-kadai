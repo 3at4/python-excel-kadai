{
  "nbformat": 4,
  "nbformat_minor": 0,
  "metadata": {
    "colab": {
      "provenance": []
    },
    "kernelspec": {
      "name": "python3",
      "display_name": "Python 3"
    },
    "language_info": {
      "name": "python"
    }
  },
  "cells": [
    {
      "cell_type": "code",
      "execution_count": null,
      "metadata": {
        "id": "LyaaLLfCC3l5"
      },
      "outputs": [],
      "source": []
    },
    {
      "source": [
        "# prompt: '2022_年間売上表.xlsx'と'2023_年間売上表.xlsx'を読み込み結合\n",
        "\n",
        "import pandas as pd\n",
        "import openpyxl as px\n",
        "from openpyxl.styles import PatternFill, Font, Alignment, Border, Side\n",
        "\n",
        "# 処理対象のファイル名のリストを格納\n",
        "file_list = ['2022_年間売上表.xlsx', '2023_年間売上表.xlsx']\n",
        "\n",
        "# 結合後のデータを格納するための空のデータフレームを作成\n",
        "df = pd.DataFrame()\n",
        "\n",
        "# ファイルを一つずつ処理する\n",
        "for file_name in file_list:\n",
        "    # Excelファイルを読み込む\n",
        "    temp_df = pd.read_excel(file_name, header=0)\n",
        "\n",
        "    # データフレームの列名を指定\n",
        "    temp_df.columns = ['売上年', '商品', '金額（千円）']\n",
        "\n",
        "    # concat()でデータフレームを連結\n",
        "    df = pd.concat([df, temp_df], ignore_index=True)\n",
        "\n",
        "# '商品' と '売上年' でグループ化し、各グループ内の '金額（千円）' を合計する\n",
        "grouped_df = df.groupby(['商品', '売上年'])['金額（千円）'].sum().reset_index()\n",
        "\n",
        "# Excelファイルを作成する\n",
        "writer = pd.ExcelWriter('売上集計表.xlsx')\n",
        "\n",
        "# 'grouped_df'をExcelファイルに書き込む\n",
        "grouped_df.to_excel(writer, sheet_name='売上集計表', index=False)\n",
        "\n",
        "# シートを選択\n",
        "ws = writer.sheets['売上集計表']\n",
        "\n",
        "# ヘッダー行を設定します。\n",
        "headers = ['商品', '売上年', '金額（千円）']\n",
        "for col, header in enumerate(headers, start=1):\n",
        "    cell = ws.cell(row=1, column=col, value=header)\n",
        "    # 背景色を薄いグレーに設定します。\n",
        "    cell.fill = PatternFill(start_color='F2F2F2', end_color='F2F2F2', fill_type='solid')\n",
        "    # フォントを太字にし、中央揃えに設定します。\n",
        "    cell.font = Font(bold=True)\n",
        "    cell.alignment = Alignment(horizontal='center')\n",
        "    # 罫線を設定します。\n",
        "    thin = Side(border_style=\"thin\", color=\"000000\")\n",
        "    cell.border = Border(top=thin, left=thin, right=thin, bottom=thin)\n",
        "\n",
        "# Excelファイルを保存する\n",
        "writer.save()"
      ],
      "cell_type": "code",
      "metadata": {
        "colab": {
          "base_uri": "https://localhost:8080/"
        },
        "id": "ePcbFS9aAzSz",
        "outputId": "f3487847-b32b-4623-dda5-90972b609ee0"
      },
      "execution_count": null,
      "outputs": [
        {
          "output_type": "stream",
          "name": "stderr",
          "text": [
            "<ipython-input-13-568b58f6e36c>:50: FutureWarning: save is not part of the public API, usage can give unexpected results and will be removed in a future version\n",
            "  writer.save()\n"
          ]
        }
      ]
    }
  ]
}
